{
 "cells": [
  {
   "cell_type": "code",
   "execution_count": 6,
   "metadata": {
    "pycharm": {
     "is_executing": false
    }
   },
   "outputs": [],
   "source": [
    "import cv2 as cv\n",
    "# %matplotlib notebook\n",
    "import matplotlib.pyplot as plt\n",
    "from IPython.display import Image\n",
    "Image(\"../data/blurry_bird.png\")\n",
    "Image(\"../data/sharpy_bird.png\")\n",
    "\n",
    "import numpy as np\n",
    "import glob\n",
    "import ImageUtils as imu"
   ]
  },
  {
   "cell_type": "code",
   "execution_count": 7,
   "metadata": {
    "pycharm": {
     "is_executing": false
    }
   },
   "outputs": [
    {
     "name": "stdout",
     "text": [
      "The autoreload extension is already loaded. To reload it, use:\n  %reload_ext autoreload\n"
     ],
     "output_type": "stream"
    }
   ],
   "source": [
    "%load_ext autoreload\n",
    "%autoreload 2"
   ]
  },
  {
   "cell_type": "markdown",
   "source": [
    "# Camera parameter exercises\n",
    "\n",
    "Using the following 'original.png' image ...\n",
    "![title](../data/original.jpeg)\n",
    "\n",
    "\n",
    "... obtain the following adjusted images:\n",
    "- Increased lightness\n",
    "![title](../data/bright.jpeg)\n",
    "\n",
    "\n",
    "- Inverted colors\n",
    "![title](../data/inverted.jpeg)\n",
    "\n",
    "\n",
    "- Increased linear contrast\n",
    "![title](../data/linear_contrast.jpeg)"
   ],
   "metadata": {
    "collapsed": false
   }
  },
  {
   "cell_type": "code",
   "execution_count": 8,
   "outputs": [],
   "source": [
    "img = imu.load_image('../data/original.jpeg')\n",
    "def change_lightness(img, light):\n",
    "    ### Your code goes here ###\n",
    "    pass\n",
    "\n",
    "def invert_image(img):\n",
    "    ### Your code goes here ###\n",
    "    pass\n",
    "\n",
    "def change_contrast_linear(img, contrast):\n",
    "    ### Your code goes here ###\n",
    "    pass\n"
   ],
   "metadata": {
    "collapsed": false,
    "pycharm": {
     "name": "#%%\n",
     "is_executing": false
    }
   }
  },
  {
   "cell_type": "markdown",
   "metadata": {},
   "source": [
    "# Filtering exercises\n",
    "\n",
    "# 1)\n",
    " A filter can be implemented using the 'cv.filter2D' method. Take a look at the documentation, and use this function to \n",
    "implement a filter that sharpens the image - as shown bellow\n",
    "![title](../data/blurry_bird.png)\n",
    "\n",
    "![title](../data/sharpy_bird.png)"
   ]
  },
  {
   "cell_type": "code",
   "execution_count": 9,
   "metadata": {
    "pycharm": {
     "is_executing": false
    }
   },
   "outputs": [],
   "source": [
    "img = imu.load_image('../data/blurry_bird.png')\n",
    "\n",
    "def sharpen_img(img):\n",
    "    ### Your code goes here ###\n",
    "    pass"
   ]
  },
  {
   "cell_type": "markdown",
   "source": [
    "# 2)\n",
    " Create a max-pooling filter with *stride* and *size* parameters\n",
    "\n",
    "![title](../data/maxpool.png)\n",
    "\n",
    "Tips\n",
    "\n",
    " - ​Don't worry about the max-pooling window being bigger than the image\n",
    " \n",
    " - Take a look at np.max() documentation - it should be useful\n",
    " \n",
    " \n",
    "Use the template bellow:"
   ],
   "metadata": {
    "collapsed": false
   }
  },
  {
   "cell_type": "code",
   "execution_count": 10,
   "outputs": [],
   "source": [
    "# Edit the following function\n",
    "def max_pooling(img, stride=2, size=(2,2)):\n",
    "    size = np.array(size)\n",
    "    out_size = _\n",
    "    out = np.zeros(out_size)\n",
    "    \n",
    "    for i in range(0,out_size[0]):\n",
    "        for j in range(0, out_size[1]):\n",
    "            window = _\n",
    "            out[j, i] = _\n",
    "\n",
    "    return out"
   ],
   "metadata": {
    "collapsed": false,
    "pycharm": {
     "name": "#%%\n",
     "is_executing": false
    }
   }
  },
  {
   "cell_type": "markdown",
   "metadata": {},
   "source": [
    "# Thresholding and morphology exercises\n",
    "\n",
    "# Finding Nemo!\n",
    "\n",
    "![title](../data/nemo.jpg)\n",
    "\n",
    "Analyse the data points from 'nemo.jpg' in different color spaces, and find suitable thresholds for revealing only the\n",
    "clownfishes in the image\n",
    "\n",
    "After that, use some morphologic transformations to make the produced mask look better\n",
    "\n",
    "Tip\n",
    "\n",
    " - The methods 'cv.inRange()' and 'cv.bitwise_and()' might be useful"
   ]
  },
  {
   "cell_type": "code",
   "execution_count": 11,
   "metadata": {
    "pycharm": {
     "is_executing": false,
     "name": "#%%\n"
    }
   },
   "outputs": [],
   "source": [
    "### Your code goes here ###"
   ]
  }
 ],
 "metadata": {
  "kernelspec": {
   "display_name": "Python 3",
   "language": "python",
   "name": "python3"
  },
  "language_info": {
   "codemirror_mode": {
    "name": "ipython",
    "version": 3
   },
   "file_extension": ".py",
   "mimetype": "text/x-python",
   "name": "python",
   "nbconvert_exporter": "python",
   "pygments_lexer": "ipython3",
   "version": "3.7.4"
  },
  "pycharm": {
   "stem_cell": {
    "cell_type": "raw",
    "source": [],
    "metadata": {
     "collapsed": false
    }
   }
  }
 },
 "nbformat": 4,
 "nbformat_minor": 2
}