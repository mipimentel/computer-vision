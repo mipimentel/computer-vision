{
 "cells": [
  {
   "cell_type": "code",
   "execution_count": null,
   "metadata": {
    "pycharm": {
     "is_executing": false
    }
   },
   "outputs": [],
   "source": [
    "import cv2 as cv\n",
    "# %matplotlib notebook\n",
    "import matplotlib.pyplot as plt\n",
    "\n",
    "\n",
    "import numpy as np\n",
    "import glob\n",
    "import ImageUtils as imu"
   ]
  },
  {
   "cell_type": "code",
   "execution_count": null,
   "metadata": {
    "pycharm": {
     "is_executing": false
    }
   },
   "outputs": [],
   "source": [
    "%load_ext autoreload\n",
    "%autoreload 2"
   ]
  },
  {
   "cell_type": "code",
   "execution_count": null,
   "metadata": {
    "pycharm": {
     "is_executing": false
    }
   },
   "outputs": [],
   "source": [
    "# img = cv.imread('./data/Regular-Ocellaris-Clownfish-Amphiprion-Ocellaris-1-e1536625989383.jpg')\n",
    "img = imu.load_image('./data/Regular-Ocellaris-Clownfish-Amphiprion-Ocellaris-1-e1536625989383.jpg')\n",
    "img2 = imu.load_image('./data/lena.png')"
   ]
  },
  {
   "cell_type": "markdown",
   "metadata": {},
   "source": [
    "# Colorspaces"
   ]
  },
  {
   "cell_type": "code",
   "execution_count": null,
   "metadata": {
    "pycharm": {
     "is_executing": false
    }
   },
   "outputs": [],
   "source": [
    "imu.show(img)\n",
    "imu.show(img2)"
   ]
  },
  {
   "cell_type": "code",
   "execution_count": null,
   "metadata": {
    "pycharm": {
     "is_executing": false
    }
   },
   "outputs": [],
   "source": [
    "imu.show_rgb(img)\n",
    "imu.show_rgb(img2)\n",
    "imu.show_rgb_hist(img2)"
   ]
  },
  {
   "cell_type": "code",
   "execution_count": null,
   "metadata": {
    "pycharm": {
     "is_executing": false
    }
   },
   "outputs": [],
   "source": [
    "imu.show_hsv(img)\n",
    "imu.show_hsv(img2)\n",
    "imu.show_hsv_hist(img2)"
   ]
  },
  {
   "cell_type": "code",
   "execution_count": null,
   "metadata": {
    "pycharm": {
     "is_executing": false
    }
   },
   "outputs": [],
   "source": [
    "imu.show_lab(img)\n",
    "imu.show_lab(img2)"
   ]
  },
  {
   "cell_type": "code",
   "execution_count": null,
   "metadata": {
    "pycharm": {
     "is_executing": false
    },
    "scrolled": true
   },
   "outputs": [],
   "source": [
    "# img = cv.cvtColor(img, cv.COLOR_BGR2RGB)\n",
    "img = cv.resize(img, (64,64))\n",
    "imu.show(img)"
   ]
  },
  {
   "cell_type": "code",
   "execution_count": null,
   "metadata": {
    "pycharm": {
     "is_executing": false
    }
   },
   "outputs": [],
   "source": [
    "imu.plot_3dRGB(img)"
   ]
  },
  {
   "cell_type": "code",
   "execution_count": null,
   "metadata": {
    "pycharm": {
     "is_executing": false
    }
   },
   "outputs": [],
   "source": [
    "imu.plot_3dHSV(img)"
   ]
  },
  {
   "cell_type": "code",
   "execution_count": null,
   "metadata": {
    "pycharm": {
     "is_executing": false
    }
   },
   "outputs": [],
   "source": [
    "imu.plot_3dLAB(img)"
   ]
  },
  {
   "cell_type": "markdown",
   "metadata": {},
   "source": [
    "# Filtering"
   ]
  },
  {
   "cell_type": "code",
   "execution_count": null,
   "metadata": {
    "pycharm": {
     "is_executing": false
    }
   },
   "outputs": [],
   "source": [
    "img = imu.load_image('./data/lena.png')\n",
    "imu.show(img)\n",
    "# adding noise\n",
    "image = img.astype(np.float32) / 255\n",
    "noised = (0.8*image + 0.2 *\n",
    "np.random.rand(*image.shape).astype(np.float32))\n",
    "noised = noised.clip(0, 1)\n",
    "imu.show(noised)"
   ]
  },
  {
   "cell_type": "code",
   "execution_count": null,
   "metadata": {},
   "outputs": [],
   "source": [
    "blur = cv.blur(noised, (7,7))\n",
    "imu.show(blur)"
   ]
  },
  {
   "cell_type": "code",
   "execution_count": null,
   "metadata": {
    "pycharm": {
     "is_executing": false
    }
   },
   "outputs": [],
   "source": [
    "gauss_blur = cv.GaussianBlur(noised, (7, 7), 0)\n",
    "imu.show(gauss_blur)"
   ]
  },
  {
   "cell_type": "code",
   "execution_count": null,
   "metadata": {
    "pycharm": {
     "is_executing": false
    }
   },
   "outputs": [],
   "source": [
    "median_blur = cv.medianBlur((noised * 255).astype(np.uint8), 7)\n",
    "imu.show(median_blur)"
   ]
  },
  {
   "cell_type": "code",
   "execution_count": null,
   "metadata": {
    "pycharm": {
     "is_executing": false
    }
   },
   "outputs": [],
   "source": [
    "bilat = cv.bilateralFilter(noised, -1, 0.3, 10)\n",
    "imu.show(bilat)"
   ]
  },
  {
   "cell_type": "code",
   "execution_count": null,
   "metadata": {
    "pycharm": {
     "is_executing": false
    }
   },
   "outputs": [],
   "source": [
    "imu.show(img)\n",
    "edges = cv.Canny(img, 100, 200)\n",
    "imu.show(edges)"
   ]
  },
  {
   "cell_type": "markdown",
   "metadata": {},
   "source": [
    "# Thresholding"
   ]
  },
  {
   "cell_type": "code",
   "execution_count": null,
   "metadata": {
    "pycharm": {
     "is_executing": false
    }
   },
   "outputs": [],
   "source": [
    "img = imu.load_image('./data/sudoku.jpg')\n",
    "# convert\n",
    "img = cv.cvtColor(img, cv.COLOR_RGB2GRAY)\n",
    "imu.show(img)\n",
    "img = cv.medianBlur(img, 5)\n",
    "imu.plot_thresh_comparrison(img)"
   ]
  },
  {
   "cell_type": "code",
   "execution_count": null,
   "metadata": {},
   "outputs": [],
   "source": [
    "img = imu.load_image('./data/lena.png')\n",
    "gray = cv.cvtColor(img, cv.COLOR_RGB2GRAY)\n",
    "mask = imu.segment_otsu(gray)\n",
    "imu.show(mask)\n",
    "imu.show(imu.overlay_mask(img, mask))"
   ]
  },
  {
   "cell_type": "code",
   "execution_count": null,
   "metadata": {},
   "outputs": [],
   "source": [
    "cgray = imu.custom_gray(img, rgb_weights=np.array([-1.4, 1.5, 1.8]))\n",
    "imu.show(cgray)\n",
    "mask = imu.segment_otsu(cgray)\n",
    "imu.show(mask)\n",
    "imu.show(imu.overlay_mask(img, mask))"
   ]
  },
  {
   "cell_type": "code",
   "execution_count": null,
   "metadata": {},
   "outputs": [],
   "source": []
  }
 ],
 "metadata": {
  "kernelspec": {
   "display_name": "Python 3",
   "language": "python",
   "name": "python3"
  },
  "language_info": {
   "codemirror_mode": {
    "name": "ipython",
    "version": 3
   },
   "file_extension": ".py",
   "mimetype": "text/x-python",
   "name": "python",
   "nbconvert_exporter": "python",
   "pygments_lexer": "ipython3",
   "version": "3.6.8"
  },
  "pycharm": {
   "stem_cell": {
    "cell_type": "raw",
    "metadata": {
     "collapsed": false
    },
    "source": []
   }
  }
 },
 "nbformat": 4,
 "nbformat_minor": 2
}
